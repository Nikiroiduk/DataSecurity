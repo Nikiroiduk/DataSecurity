{
 "cells": [
  {
   "cell_type": "markdown",
   "metadata": {},
   "source": [
    "##### Импорты"
   ]
  },
  {
   "cell_type": "code",
   "execution_count": 22,
   "metadata": {},
   "outputs": [],
   "source": [
    "import hashlib\n",
    "import math\n",
    "\n",
    "from IPython.display import HTML, display"
   ]
  },
  {
   "cell_type": "markdown",
   "metadata": {},
   "source": [
    "### MD5"
   ]
  },
  {
   "cell_type": "markdown",
   "metadata": {},
   "source": [
    "#### Шаг основного цикла вычисления хеша\n",
    "![Alt text](image.png)"
   ]
  },
  {
   "cell_type": "markdown",
   "metadata": {},
   "source": [
    "#### Одна итерация цикла раунда\n",
    "![Alt text](image-1.png)"
   ]
  },
  {
   "cell_type": "markdown",
   "metadata": {},
   "source": [
    "#### Раундовые функции\n",
    "| № | Обозначение | Формула |\n",
    "| - | :-: | - |\n",
    "| 1 | F | F(B, C, D) = (B ∧ C) ∨ (¬B ∧ D) |\n",
    "| 2 | G | G(B, C, D) = (B ∧ D) ∨ (¬D ∧ C)|\n",
    "| 3 | H | H(B, C, D) = B ⊕ C ⊕ D |\n",
    "| 4 | I | I(B, C, D) = C ⊕ (¬D ∨ B) |"
   ]
  },
  {
   "cell_type": "markdown",
   "metadata": {},
   "source": [
    "#### Исходные значения переменных\n",
    "|||\n",
    "| --- | --- |\n",
    "| A | 0x67452301 |\n",
    "| B | 0xEFCDAB89 |\n",
    "| C | 0x98BADCFE |\n",
    "| D | 0x10325476 |"
   ]
  },
  {
   "cell_type": "code",
   "execution_count": 23,
   "metadata": {},
   "outputs": [
    {
     "name": "stdout",
     "output_type": "stream",
     "text": [
      "Символ | Десятичное представление | Шестнадцатеричное представление\n",
      "-------------------------------------------------------------------\n",
      "  И    |           200            |               c8              \n",
      "  с    |           241            |               f1              \n",
      "  ю    |           254            |               fe              \n"
     ]
    }
   ],
   "source": [
    "text = 'Исю'\n",
    "encoded = text.encode('cp1251')\n",
    "\n",
    "print('Символ | Десятичное представление | Шестнадцатеричное представление')\n",
    "print('-' * 67)\n",
    "for i in range(len(text)):\n",
    "    print(f'{text[i]:^6} | {encoded[i]:^24} | {hex(encoded[i])[2:]:^30}')"
   ]
  },
  {
   "cell_type": "code",
   "execution_count": 24,
   "metadata": {},
   "outputs": [
    {
     "name": "stdout",
     "output_type": "stream",
     "text": [
      "hex: c8f1fe80000000000000000000000000000000000000000000000000000000000000000000000000000000000000000000000000000000001800000000000000\n"
     ]
    }
   ],
   "source": [
    "message = 'Исю'.encode('cp1251')\n",
    "messageLength = 8 * len(message)\n",
    "message = bytearray(message)\n",
    "\n",
    "message.append(0x80)\n",
    "while len(message) % 64 != 56:\n",
    "    message.append(0x0)\n",
    "message.extend(messageLength.to_bytes(8, byteorder=\"little\"))\n",
    "print(f'hex: {message.hex()}')"
   ]
  },
  {
   "cell_type": "code",
   "execution_count": 34,
   "metadata": {},
   "outputs": [
    {
     "name": "stdout",
     "output_type": "stream",
     "text": [
      "Исходные значения:\n",
      "A + B + C + D = 67452301efcdab8998badcfe10325476 (big-endian)\n",
      "A + B + C + D = 0123456789abcdeffedcba9876543210 (little-endian)\n",
      "\n",
      "После 4-го раунда:\n",
      "A + B + C + D = 62eb189e62eb189e62eb189e62eb189e (big-endian)\n",
      "A + B + C + D = 9e18eb621e0e7b45dbd7778ab6033b99 (little-endian)\n",
      "\n",
      "Конечная хеш-сумма:\n",
      "9e18eb621e0e7b45dbd7778ab6033b99\n",
      "\n"
     ]
    },
    {
     "data": {
      "text/html": [
       "\n",
       "    <table><thead><tr><th rowspan=\"3\">Раунд</th><th rowspan=\"3\">Итерация</th><th colspan=\"8\">Значения переменных</th>\n",
       "    </tr><tr><th colspan=\"4\">Начало итерации</th><th colspan=\"4\">Конец итерации</th></tr><tr><th>A</th><th>B</th>\n",
       "    <th>C</th><th>D</th><th>A</th><th>B</th><th>C</th><th>D</th></tr></thead><tbody><tr><tr></tr><td rowspan=\"34\">1</td></tr><tr></tr><td>1</td><td>0x67452301</td><td>0xefcdab89</td><td>0x98badcfe</td><td>0x10325476</td><td>0x10325476</td><td>0x2498cb35</td><td>0xefcdab89</td><td>0x98badcfe</td><tr></tr><td>2</td><td>0x10325476</td><td>0x2498cb35</td><td>0xefcdab89</td><td>0x98badcfe</td><td>0x98badcfe</td><td>0x6f52468f</td><td>0x2498cb35</td><td>0xefcdab89</td><tr></tr><td>3</td><td>0x98badcfe</td><td>0x6f52468f</td><td>0x2498cb35</td><td>0xefcdab89</td><td>0xefcdab89</td><td>0xe10f0981</td><td>0x6f52468f</td><td>0x2498cb35</td><tr></tr><td>4</td><td>0xefcdab89</td><td>0xe10f0981</td><td>0x6f52468f</td><td>0x2498cb35</td><td>0x2498cb35</td><td>0x2c14d110</td><td>0xe10f0981</td><td>0x6f52468f</td><tr></tr><td>5</td><td>0x2498cb35</td><td>0x2c14d110</td><td>0xe10f0981</td><td>0x6f52468f</td><td>0x6f52468f</td><td>0xd9860ace</td><td>0x2c14d110</td><td>0xe10f0981</td><tr></tr><td>6</td><td>0x6f52468f</td><td>0xd9860ace</td><td>0x2c14d110</td><td>0xe10f0981</td><td>0xe10f0981</td><td>0x4a61b8bc</td><td>0xd9860ace</td><td>0x2c14d110</td><tr></tr><td>7</td><td>0xe10f0981</td><td>0x4a61b8bc</td><td>0xd9860ace</td><td>0x2c14d110</td><td>0x2c14d110</td><td>0x7ca3a363</td><td>0x4a61b8bc</td><td>0xd9860ace</td><tr></tr><td>8</td><td>0x2c14d110</td><td>0x7ca3a363</td><td>0x4a61b8bc</td><td>0xd9860ace</td><td>0xd9860ace</td><td>0x2c2043a6</td><td>0x7ca3a363</td><td>0x4a61b8bc</td><tr></tr><td>9</td><td>0xd9860ace</td><td>0x2c2043a6</td><td>0x7ca3a363</td><td>0x4a61b8bc</td><td>0x4a61b8bc</td><td>0xe04fb3fe</td><td>0x2c2043a6</td><td>0x7ca3a363</td><tr></tr><td>10</td><td>0x4a61b8bc</td><td>0xe04fb3fe</td><td>0x2c2043a6</td><td>0x7ca3a363</td><td>0x7ca3a363</td><td>0x4b90d522</td><td>0xe04fb3fe</td><td>0x2c2043a6</td><tr></tr><td>11</td><td>0x7ca3a363</td><td>0x4b90d522</td><td>0xe04fb3fe</td><td>0x2c2043a6</td><td>0x2c2043a6</td><td>0x710696a9</td><td>0x4b90d522</td><td>0xe04fb3fe</td><tr></tr><td>12</td><td>0x2c2043a6</td><td>0x710696a9</td><td>0x4b90d522</td><td>0xe04fb3fe</td><td>0xe04fb3fe</td><td>0xa7a4485d</td><td>0x710696a9</td><td>0x4b90d522</td><tr></tr><td>13</td><td>0xe04fb3fe</td><td>0xa7a4485d</td><td>0x710696a9</td><td>0x4b90d522</td><td>0x4b90d522</td><td>0x21d16e37</td><td>0xa7a4485d</td><td>0x710696a9</td><tr></tr><td>14</td><td>0x4b90d522</td><td>0x21d16e37</td><td>0xa7a4485d</td><td>0x710696a9</td><td>0x710696a9</td><td>0x23c699e2</td><td>0x21d16e37</td><td>0xa7a4485d</td><tr></tr><td>15</td><td>0x710696a9</td><td>0x23c699e2</td><td>0x21d16e37</td><td>0xa7a4485d</td><td>0xa7a4485d</td><td>0x68e414a2</td><td>0x23c699e2</td><td>0x21d16e37</td><tr></tr><td>16</td><td>0xa7a4485d</td><td>0x68e414a2</td><td>0x23c699e2</td><td>0x21d16e37</td><td>0x21d16e37</td><td>0x3628e014</td><td>0x68e414a2</td><td>0x23c699e2</td><tr><tr></tr><td rowspan=\"34\">2</td></tr><tr></tr><td>1</td><td>0x21d16e37</td><td>0x3628e014</td><td>0x68e414a2</td><td>0x23c699e2</td><td>0x23c699e2</td><td>0x782bd344</td><td>0x3628e014</td><td>0x68e414a2</td><tr></tr><td>2</td><td>0x23c699e2</td><td>0x782bd344</td><td>0x3628e014</td><td>0x68e414a2</td><td>0x68e414a2</td><td>0xd8a64008</td><td>0x782bd344</td><td>0x3628e014</td><tr></tr><td>3</td><td>0x68e414a2</td><td>0xd8a64008</td><td>0x782bd344</td><td>0x3628e014</td><td>0x3628e014</td><td>0x493339e1</td><td>0xd8a64008</td><td>0x782bd344</td><tr></tr><td>4</td><td>0x3628e014</td><td>0x493339e1</td><td>0xd8a64008</td><td>0x782bd344</td><td>0x782bd344</td><td>0xf619d23b</td><td>0x493339e1</td><td>0xd8a64008</td><tr></tr><td>5</td><td>0x782bd344</td><td>0xf619d23b</td><td>0x493339e1</td><td>0xd8a64008</td><td>0xd8a64008</td><td>0xe3a5837e</td><td>0xf619d23b</td><td>0x493339e1</td><tr></tr><td>6</td><td>0xd8a64008</td><td>0xe3a5837e</td><td>0xf619d23b</td><td>0x493339e1</td><td>0x493339e1</td><td>0xbd52f22</td><td>0xe3a5837e</td><td>0xf619d23b</td><tr></tr><td>7</td><td>0x493339e1</td><td>0xbd52f22</td><td>0xe3a5837e</td><td>0xf619d23b</td><td>0xf619d23b</td><td>0x94c73884</td><td>0xbd52f22</td><td>0xe3a5837e</td><tr></tr><td>8</td><td>0xf619d23b</td><td>0x94c73884</td><td>0xbd52f22</td><td>0xe3a5837e</td><td>0xe3a5837e</td><td>0x353da4b3</td><td>0x94c73884</td><td>0xbd52f22</td><tr></tr><td>9</td><td>0xe3a5837e</td><td>0x353da4b3</td><td>0x94c73884</td><td>0xbd52f22</td><td>0xbd52f22</td><td>0x890e6606</td><td>0x353da4b3</td><td>0x94c73884</td><tr></tr><td>10</td><td>0xbd52f22</td><td>0x890e6606</td><td>0x353da4b3</td><td>0x94c73884</td><td>0x94c73884</td><td>0x1ec4f4e6</td><td>0x890e6606</td><td>0x353da4b3</td><tr></tr><td>11</td><td>0x94c73884</td><td>0x1ec4f4e6</td><td>0x890e6606</td><td>0x353da4b3</td><td>0x353da4b3</td><td>0xe9f13e4e</td><td>0x1ec4f4e6</td><td>0x890e6606</td><tr></tr><td>12</td><td>0x353da4b3</td><td>0xe9f13e4e</td><td>0x1ec4f4e6</td><td>0x890e6606</td><td>0x890e6606</td><td>0xf252e3d5</td><td>0xe9f13e4e</td><td>0x1ec4f4e6</td><tr></tr><td>13</td><td>0x890e6606</td><td>0xf252e3d5</td><td>0xe9f13e4e</td><td>0x1ec4f4e6</td><td>0x1ec4f4e6</td><td>0xbeda1eb9</td><td>0xf252e3d5</td><td>0xe9f13e4e</td><tr></tr><td>14</td><td>0x1ec4f4e6</td><td>0xbeda1eb9</td><td>0xf252e3d5</td><td>0xe9f13e4e</td><td>0xe9f13e4e</td><td>0xcdcb0e66</td><td>0xbeda1eb9</td><td>0xf252e3d5</td><tr></tr><td>15</td><td>0xe9f13e4e</td><td>0xcdcb0e66</td><td>0xbeda1eb9</td><td>0xf252e3d5</td><td>0xf252e3d5</td><td>0x65afd5f0</td><td>0xcdcb0e66</td><td>0xbeda1eb9</td><tr></tr><td>16</td><td>0xf252e3d5</td><td>0x65afd5f0</td><td>0xcdcb0e66</td><td>0xbeda1eb9</td><td>0xbeda1eb9</td><td>0xbb0e2674</td><td>0x65afd5f0</td><td>0xcdcb0e66</td><tr><tr></tr><td rowspan=\"34\">3</td></tr><tr></tr><td>1</td><td>0xbeda1eb9</td><td>0xbb0e2674</td><td>0x65afd5f0</td><td>0xcdcb0e66</td><td>0xcdcb0e66</td><td>0xdf038451</td><td>0xbb0e2674</td><td>0x65afd5f0</td><tr></tr><td>2</td><td>0xcdcb0e66</td><td>0xdf038451</td><td>0xbb0e2674</td><td>0x65afd5f0</td><td>0x65afd5f0</td><td>0xdae96707</td><td>0xdf038451</td><td>0xbb0e2674</td><tr></tr><td>3</td><td>0x65afd5f0</td><td>0xdae96707</td><td>0xdf038451</td><td>0xbb0e2674</td><td>0xbb0e2674</td><td>0xd71df938</td><td>0xdae96707</td><td>0xdf038451</td><tr></tr><td>4</td><td>0xbb0e2674</td><td>0xd71df938</td><td>0xdae96707</td><td>0xdf038451</td><td>0xdf038451</td><td>0x5a63ee74</td><td>0xd71df938</td><td>0xdae96707</td><tr></tr><td>5</td><td>0xdf038451</td><td>0x5a63ee74</td><td>0xd71df938</td><td>0xdae96707</td><td>0xdae96707</td><td>0x1001dc81</td><td>0x5a63ee74</td><td>0xd71df938</td><tr></tr><td>6</td><td>0xdae96707</td><td>0x1001dc81</td><td>0x5a63ee74</td><td>0xd71df938</td><td>0xd71df938</td><td>0x5015caa3</td><td>0x1001dc81</td><td>0x5a63ee74</td><tr></tr><td>7</td><td>0xd71df938</td><td>0x5015caa3</td><td>0x1001dc81</td><td>0x5a63ee74</td><td>0x5a63ee74</td><td>0x8d04b2f4</td><td>0x5015caa3</td><td>0x1001dc81</td><tr></tr><td>8</td><td>0x5a63ee74</td><td>0x8d04b2f4</td><td>0x5015caa3</td><td>0x1001dc81</td><td>0x1001dc81</td><td>0x6a77cd1b</td><td>0x8d04b2f4</td><td>0x5015caa3</td><tr></tr><td>9</td><td>0x1001dc81</td><td>0x6a77cd1b</td><td>0x8d04b2f4</td><td>0x5015caa3</td><td>0x5015caa3</td><td>0x6ab8d65a</td><td>0x6a77cd1b</td><td>0x8d04b2f4</td><tr></tr><td>10</td><td>0x5015caa3</td><td>0x6ab8d65a</td><td>0x6a77cd1b</td><td>0x8d04b2f4</td><td>0x8d04b2f4</td><td>0x7729a8a6</td><td>0x6ab8d65a</td><td>0x6a77cd1b</td><tr></tr><td>11</td><td>0x8d04b2f4</td><td>0x7729a8a6</td><td>0x6ab8d65a</td><td>0x6a77cd1b</td><td>0x6a77cd1b</td><td>0xe8a8280</td><td>0x7729a8a6</td><td>0x6ab8d65a</td><tr></tr><td>12</td><td>0x6a77cd1b</td><td>0xe8a8280</td><td>0x7729a8a6</td><td>0x6ab8d65a</td><td>0x6ab8d65a</td><td>0x5ccb9073</td><td>0xe8a8280</td><td>0x7729a8a6</td><tr></tr><td>13</td><td>0x6ab8d65a</td><td>0x5ccb9073</td><td>0xe8a8280</td><td>0x7729a8a6</td><td>0x7729a8a6</td><td>0xfc319ef9</td><td>0x5ccb9073</td><td>0xe8a8280</td><tr></tr><td>14</td><td>0x7729a8a6</td><td>0xfc319ef9</td><td>0x5ccb9073</td><td>0xe8a8280</td><td>0xe8a8280</td><td>0xaaa6475c</td><td>0xfc319ef9</td><td>0x5ccb9073</td><tr></tr><td>15</td><td>0xe8a8280</td><td>0xaaa6475c</td><td>0xfc319ef9</td><td>0x5ccb9073</td><td>0x5ccb9073</td><td>0xf3f47fe5</td><td>0xaaa6475c</td><td>0xfc319ef9</td><tr></tr><td>16</td><td>0x5ccb9073</td><td>0xf3f47fe5</td><td>0xaaa6475c</td><td>0xfc319ef9</td><td>0xfc319ef9</td><td>0x8057edab</td><td>0xf3f47fe5</td><td>0xaaa6475c</td><tr><tr></tr><td rowspan=\"34\">4</td></tr><tr></tr><td>1</td><td>0xfc319ef9</td><td>0x8057edab</td><td>0xf3f47fe5</td><td>0xaaa6475c</td><td>0xaaa6475c</td><td>0x81a54291</td><td>0x8057edab</td><td>0xf3f47fe5</td><tr></tr><td>2</td><td>0xaaa6475c</td><td>0x81a54291</td><td>0x8057edab</td><td>0xf3f47fe5</td><td>0xf3f47fe5</td><td>0xa77dd280</td><td>0x81a54291</td><td>0x8057edab</td><tr></tr><td>3</td><td>0xf3f47fe5</td><td>0xa77dd280</td><td>0x81a54291</td><td>0x8057edab</td><td>0x8057edab</td><td>0x41726170</td><td>0xa77dd280</td><td>0x81a54291</td><tr></tr><td>4</td><td>0x8057edab</td><td>0x41726170</td><td>0xa77dd280</td><td>0x81a54291</td><td>0x81a54291</td><td>0xfdbcffc7</td><td>0x41726170</td><td>0xa77dd280</td><tr></tr><td>5</td><td>0x81a54291</td><td>0xfdbcffc7</td><td>0x41726170</td><td>0xa77dd280</td><td>0xa77dd280</td><td>0xf10bb8af</td><td>0xfdbcffc7</td><td>0x41726170</td><tr></tr><td>6</td><td>0xa77dd280</td><td>0xf10bb8af</td><td>0xfdbcffc7</td><td>0x41726170</td><td>0x41726170</td><td>0xe88da191</td><td>0xf10bb8af</td><td>0xfdbcffc7</td><tr></tr><td>7</td><td>0x41726170</td><td>0xe88da191</td><td>0xf10bb8af</td><td>0xfdbcffc7</td><td>0xfdbcffc7</td><td>0x200f5024</td><td>0xe88da191</td><td>0xf10bb8af</td><tr></tr><td>8</td><td>0xfdbcffc7</td><td>0x200f5024</td><td>0xe88da191</td><td>0xf10bb8af</td><td>0xf10bb8af</td><td>0xafb886ae</td><td>0x200f5024</td><td>0xe88da191</td><tr></tr><td>9</td><td>0xf10bb8af</td><td>0xafb886ae</td><td>0x200f5024</td><td>0xe88da191</td><td>0xe88da191</td><td>0xda29f8ae</td><td>0xafb886ae</td><td>0x200f5024</td><tr></tr><td>10</td><td>0xe88da191</td><td>0xda29f8ae</td><td>0xafb886ae</td><td>0x200f5024</td><td>0x200f5024</td><td>0xca310209</td><td>0xda29f8ae</td><td>0xafb886ae</td><tr></tr><td>11</td><td>0x200f5024</td><td>0xca310209</td><td>0xda29f8ae</td><td>0xafb886ae</td><td>0xafb886ae</td><td>0x55c8e3c0</td><td>0xca310209</td><td>0xda29f8ae</td><tr></tr><td>12</td><td>0xafb886ae</td><td>0x55c8e3c0</td><td>0xca310209</td><td>0xda29f8ae</td><td>0xda29f8ae</td><td>0x1ac099cf</td><td>0x55c8e3c0</td><td>0xca310209</td><tr></tr><td>13</td><td>0xda29f8ae</td><td>0x1ac099cf</td><td>0x55c8e3c0</td><td>0xca310209</td><td>0xca310209</td><td>0xfba5f59d</td><td>0x1ac099cf</td><td>0x55c8e3c0</td><tr></tr><td>14</td><td>0xca310209</td><td>0xfba5f59d</td><td>0x1ac099cf</td><td>0x55c8e3c0</td><td>0x55c8e3c0</td><td>0x8908af40</td><td>0xfba5f59d</td><td>0x1ac099cf</td><tr></tr><td>15</td><td>0x55c8e3c0</td><td>0x8908af40</td><td>0xfba5f59d</td><td>0x1ac099cf</td><td>0x1ac099cf</td><td>0xf1bcfadd</td><td>0x8908af40</td><td>0xfba5f59d</td><tr></tr><td>16</td><td>0x1ac099cf</td><td>0xf1bcfadd</td><td>0x8908af40</td><td>0xfba5f59d</td><td>0xfba5f59d</td><td>0x55ad6295</td><td>0xf1bcfadd</td><td>0x8908af40</td></tbody></table>"
      ],
      "text/plain": [
       "<IPython.core.display.HTML object>"
      ]
     },
     "metadata": {},
     "output_type": "display_data"
    },
    {
     "name": "stdout",
     "output_type": "stream",
     "text": [
      "None\n"
     ]
    }
   ],
   "source": [
    "A = 0x67452301\n",
    "B = 0xefcdab89\n",
    "C = 0x98badcfe\n",
    "D = 0x10325476\n",
    "\n",
    "F = lambda B, C, D : (B & C) | (~B & D)\n",
    "G = lambda B, C, D : (B & D) | (C & ~D)\n",
    "H = lambda B, C, D : B ^ C ^ D\n",
    "I = lambda B, C, D : C ^ (B | ~D)\n",
    "\n",
    "ModuloAddition = lambda x, y : (x + y) % 0x100000000\n",
    "\n",
    "def ki(index):\n",
    "    return math.floor(abs(math.sin(index+1)) * 0x100000000)\n",
    "\n",
    "def si(index):\n",
    "    shift = [\n",
    "        [7, 12, 17, 22],\n",
    "        [5,  9, 14, 20],\n",
    "        [4, 11, 16, 23],\n",
    "        [6, 10, 15, 21]\n",
    "    ]\n",
    "    return shift[index // 16][index % 4]\n",
    "\n",
    "def rol(number, offset):\n",
    "    return (number << offset) | (number >> (32-offset))\n",
    "\n",
    "computationLog = []\n",
    "additionLog = []\n",
    "\n",
    "def computation(m, compBuffer):\n",
    "    q = [0] * 68\n",
    "    q[0], q[1], q[2], q[3] = compBuffer[0], compBuffer[3], compBuffer[2], compBuffer[1]\n",
    "\n",
    "    for i in range(4, 68):\n",
    "        index = i - 4\n",
    "        computationLog.append([hex(q[i - 4]), hex(q[i - 1]), hex(q[i - 2]), hex(q[i - 3])])\n",
    "        if 0 <= index < 16:\n",
    "            rf = F(q[i - 1], q[i - 2], q[i - 3])\n",
    "            messageIndex = index\n",
    "\n",
    "        elif 16 <= index < 32:\n",
    "            rf = G(q[i - 1], q[i - 2], q[i - 3])\n",
    "            messageIndex = (5 * index + 1) % 16\n",
    "        \n",
    "        elif 32 <= index < 48:\n",
    "            rf = H(q[i - 1], q[i - 2], q[i - 3])\n",
    "            messageIndex = (3 * index + 5) % 16\n",
    "        \n",
    "        else:\n",
    "            rf = I(q[i - 1], q[i - 2], q[i - 3])\n",
    "            messageIndex = (7 * index) % 16\n",
    "        \n",
    "        q[i] = ModuloAddition(q[i - 4] + rf, m[messageIndex] + ki(index))\n",
    "        q[i] = rol(q[i], si(index))\n",
    "        q[i] = ModuloAddition(q[i - 1], q[i]) \n",
    "        computationLog.append([hex(q[i - 3]), hex(q[i]), hex(q[i - 1]), hex(q[i - 2])])\n",
    "\n",
    "    rA = ModuloAddition(compBuffer[0], q[64])\n",
    "    rB = ModuloAddition(compBuffer[1], q[67])\n",
    "    rC = ModuloAddition(compBuffer[2], q[66])\n",
    "    rD = ModuloAddition(compBuffer[3], q[65])\n",
    "    \n",
    "    return [rA, rB, rC, rD]\n",
    "\n",
    "\n",
    "\n",
    "def MD5(message):\n",
    "    messageLength = 8 * len(message)\n",
    "    message = bytearray(message)\n",
    "\n",
    "    message.append(0x80)\n",
    "    while len(message) % 64 != 56:\n",
    "        message.append(0x0)\n",
    "    message.extend(messageLength.to_bytes(8, byteorder=\"little\"))\n",
    "\n",
    "    numberOfBlocks = len(message) // 64\n",
    "    compBuffer = [[0, 0, 0, 0]] * (numberOfBlocks + 1)\n",
    "    compBuffer[0] = [A, B, C, D]\n",
    "\n",
    "    for i in range(numberOfBlocks):\n",
    "        curBlock = i * 64\n",
    "        block = [int.from_bytes(message[curBlock + 4 * k: curBlock + 4 * (k + 1)], byteorder='little') for k in range(16)]\n",
    "        compBuffer[i + 1] = computation(block, compBuffer[i])\n",
    "    result = ((compBuffer[numberOfBlocks])[0].to_bytes(4, 'little') + \\\n",
    "              (compBuffer[numberOfBlocks])[1].to_bytes(4, 'little') + \\\n",
    "              (compBuffer[numberOfBlocks])[2].to_bytes(4, 'little') + \\\n",
    "              (compBuffer[numberOfBlocks])[3].to_bytes(4, 'little'))  \\\n",
    "              .hex()\n",
    "    \n",
    "    additionLog.append(((compBuffer[numberOfBlocks])[0].to_bytes(4) + \\\n",
    "                         (compBuffer[numberOfBlocks])[0].to_bytes(4) + \\\n",
    "                         (compBuffer[numberOfBlocks])[0].to_bytes(4) + \\\n",
    "                         (compBuffer[numberOfBlocks])[0].to_bytes(4))  \\\n",
    "                         .hex())\n",
    "    additionLog.append(((compBuffer[numberOfBlocks])[0].to_bytes(4, 'little') + \\\n",
    "                         (compBuffer[numberOfBlocks])[1].to_bytes(4, 'little') + \\\n",
    "                         (compBuffer[numberOfBlocks])[2].to_bytes(4, 'little') + \\\n",
    "                         (compBuffer[numberOfBlocks])[3].to_bytes(4, 'little'))  \\\n",
    "                         .hex())\n",
    "\n",
    "    return result\n",
    "\n",
    "hash = MD5('Исю'.encode('cp1251'))\n",
    "print(f'''Исходные значения:\n",
    "A + B + C + D = {(A.to_bytes(4) + B.to_bytes(4) + C.to_bytes(4) + D.to_bytes(4)).hex()} (big-endian)\n",
    "A + B + C + D = {(A.to_bytes(4, 'little') + B.to_bytes(4, 'little') + C.to_bytes(4, 'little') + D.to_bytes(4, 'little')).hex()} (little-endian)\n",
    "\n",
    "После 4-го раунда:\n",
    "A + B + C + D = {additionLog[0]} (big-endian)\n",
    "A + B + C + D = {additionLog[1]} (little-endian)\n",
    "\n",
    "Конечная хеш-сумма:\n",
    "{hash}\n",
    "''')\n",
    "\n",
    "print(printTable(computationLog))\n"
   ]
  },
  {
   "cell_type": "code",
   "execution_count": 26,
   "metadata": {},
   "outputs": [
    {
     "name": "stdout",
     "output_type": "stream",
     "text": [
      "9e18eb621e0e7b45dbd7778ab6033b99\n"
     ]
    }
   ],
   "source": [
    "print(hashlib.md5('Исю'.encode('cp1251')).hexdigest())"
   ]
  },
  {
   "cell_type": "code",
   "execution_count": 27,
   "metadata": {},
   "outputs": [],
   "source": [
    "def printTable(computationLog):\n",
    "    meh = ''\n",
    "    iter = 1\n",
    "    round = 1\n",
    "    for i in range(len(computationLog)):\n",
    "        if i % 32 == 0:\n",
    "            meh += '<tr>'\n",
    "            meh += '<tr></tr>'\n",
    "            meh += f'<td rowspan=\"34\">{round}</td>'\n",
    "            meh += '</tr>'\n",
    "            round += 1\n",
    "        if i % 2 == 0:\n",
    "            if iter > 16:\n",
    "                iter = 1\n",
    "            meh += '<tr></tr>'\n",
    "            meh += f'<td>{iter}</td>'\n",
    "            iter += 1\n",
    "        for j in range(len(computationLog[0])):\n",
    "            meh +=f'<td>{computationLog[i][j]}</td>'\n",
    "\n",
    "    display(HTML(f'''\n",
    "    <table><thead><tr><th rowspan=\"3\">Раунд</th><th rowspan=\"3\">Итерация</th><th colspan=\"8\">Значения переменных</th>\n",
    "    </tr><tr><th colspan=\"4\">Начало итерации</th><th colspan=\"4\">Конец итерации</th></tr><tr><th>A</th><th>B</th>\n",
    "    <th>C</th><th>D</th><th>A</th><th>B</th><th>C</th><th>D</th></tr></thead><tbody>{meh}</tbody></table>'''))"
   ]
  }
 ],
 "metadata": {
  "kernelspec": {
   "display_name": "Python 3",
   "language": "python",
   "name": "python3"
  },
  "language_info": {
   "codemirror_mode": {
    "name": "ipython",
    "version": 3
   },
   "file_extension": ".py",
   "mimetype": "text/x-python",
   "name": "python",
   "nbconvert_exporter": "python",
   "pygments_lexer": "ipython3",
   "version": "3.11.6"
  },
  "orig_nbformat": 4
 },
 "nbformat": 4,
 "nbformat_minor": 2
}
