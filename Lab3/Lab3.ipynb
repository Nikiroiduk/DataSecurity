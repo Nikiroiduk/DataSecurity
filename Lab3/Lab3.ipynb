{
 "cells": [
  {
   "cell_type": "markdown",
   "metadata": {},
   "source": [
    "##### Импорты"
   ]
  },
  {
   "cell_type": "code",
   "execution_count": 16,
   "metadata": {},
   "outputs": [],
   "source": [
    "import random\n",
    "import math"
   ]
  },
  {
   "cell_type": "markdown",
   "metadata": {},
   "source": [
    "### Шифры гаммирования"
   ]
  },
  {
   "cell_type": "markdown",
   "metadata": {},
   "source": [
    "#### Модуль 2"
   ]
  },
  {
   "cell_type": "code",
   "execution_count": 17,
   "metadata": {},
   "outputs": [
    {
     "name": "stdout",
     "output_type": "stream",
     "text": [
      "Ключ:                mehhh\t 1101101 1100101 1101000 1101000 1101000\n",
      "Исходный текст:      Isyuk\t 1001001 1110011 1111001 1110101 1101011\n",
      "Зашифрованный текст: $\u0016\u0011\u001d\u0003\t  100100   10110   10001   11101      11\n",
      "Дешифрованный текст: Isyuk\t 1001001 1110011 1111001 1110101 1101011\n",
      "\n"
     ]
    }
   ],
   "source": [
    "def gammaCipher(text, key):\n",
    "    result = ''\n",
    "    for i in range(len(text)):\n",
    "        result += chr(ord(text[i]) ^ ord(key[i]))\n",
    "    return result\n",
    "\n",
    "text = 'Isyuk'\n",
    "key = 'mehhh'\n",
    "encrypt = gammaCipher(text, key)\n",
    "decrypt = gammaCipher(encrypt, key)\n",
    "print(f'''Ключ:                {key}\\t{''.join([(10 - len(bin(ord(key[i])))) * ' ' + bin(ord(key[i]))[2:] for i in range(len(key))])}\n",
    "Исходный текст:      {text}\\t{''.join([(10 - len(bin(ord(text[i])))) * ' ' + bin(ord(text[i]))[2:] for i in range(len(text))])}\n",
    "Зашифрованный текст: {encrypt}\\t{''.join([(10 - len(bin(ord(encrypt[i])))) * ' ' + bin(ord(encrypt[i]))[2:] for i in range(len(encrypt))])}\n",
    "Дешифрованный текст: {decrypt}\\t{''.join([(10 - len(bin(ord(decrypt[i])))) * ' ' + bin(ord(decrypt[i]))[2:] for i in range(len(decrypt))])}\n",
    "''')"
   ]
  },
  {
   "cell_type": "markdown",
   "metadata": {},
   "source": [
    "#### Модуль N"
   ]
  },
  {
   "cell_type": "code",
   "execution_count": 18,
   "metadata": {},
   "outputs": [
    {
     "name": "stdout",
     "output_type": "stream",
     "text": [
      "Ключ:                cipher   \n",
      "Исходный текст:      Isyuk\n",
      "Шифрование:\n",
      "( 8 +  2) mod 26 = 10 [K]\n",
      "(18 +  8) mod 26 =  0 [a]\n",
      "(24 + 15) mod 26 = 13 [n]\n",
      "(20 +  7) mod 26 =  1 [b]\n",
      "(10 +  4) mod 26 = 14 [o]\n",
      "Зашифрованный текст: Kanbo\n",
      "Расшифровка:\n",
      "(10 + 26 -  2) mod 26 =  8 [I]\n",
      "( 0 + 26 -  8) mod 26 = 18 [s]\n",
      "(13 + 26 - 15) mod 26 = 24 [y]\n",
      "( 1 + 26 -  7) mod 26 = 20 [u]\n",
      "(14 + 26 -  4) mod 26 = 10 [k]\n",
      "Дешифрованный текст: Isyuk\n",
      "\n"
     ]
    }
   ],
   "source": [
    "\n",
    "def gammaCipherEncrypt(text, key):\n",
    "    result = ''\n",
    "    printData = 'Шифрование:'\n",
    "    for i in range(len(text)):\n",
    "        piIslower = text[i].islower()\n",
    "        pi = ord(text[i]) - (ord('a') if piIslower else ord('A'))\n",
    "        ki = ord(key[i]) - ord('a')\n",
    "        char = chr(((pi + ki) % 26) + (ord('a') if piIslower else ord('A')))\n",
    "        result += char\n",
    "        printData += f'\\n({pi:2d} + {ki:2d}) mod 26 = {(pi + ki) % 26:2d} [{char}]'\n",
    "    return result, printData\n",
    "\n",
    "def gammaCipherDecrypt(text, key):\n",
    "    result = ''\n",
    "    printData = 'Расшифровка:'\n",
    "    for i in range(len(text)):\n",
    "        ciIslower = text[i].islower()\n",
    "        ci = ord(text[i]) - (ord('a') if ciIslower else ord('A'))\n",
    "        ki = ord(key[i]) - ord('a')\n",
    "        char = chr(((ci + 26 - ki) % 26) + (ord('a') if ciIslower else ord('A')))\n",
    "        result += char\n",
    "        printData += f'\\n({ci:2d} + 26 - {ki:2d}) mod 26 = {(ci + 26 - ki) % 26:2d} [{char}]'\n",
    "    return result, printData\n",
    "\n",
    "text = 'Isyuk'\n",
    "key = 'cipher'\n",
    "encrypt, encryptionLog = gammaCipherEncrypt(text, key)\n",
    "decrypt, decryptionLog = gammaCipherDecrypt(encrypt, key)\n",
    "print(f'''Ключ:                {key}   \n",
    "Исходный текст:      {text}\n",
    "{encryptionLog}\n",
    "Зашифрованный текст: {encrypt}\n",
    "{decryptionLog}\n",
    "Дешифрованный текст: {decrypt}\n",
    "''')\n"
   ]
  },
  {
   "cell_type": "markdown",
   "metadata": {},
   "source": [
    "#### Регистр сдвига c линейной обратной связью и алгоритм Блюм-Блюм-Шуба"
   ]
  },
  {
   "cell_type": "code",
   "execution_count": 35,
   "metadata": {},
   "outputs": [
    {
     "name": "stdout",
     "output_type": "stream",
     "text": [
      "Исходный текст:      Исюк\n",
      "Расчет исходного значения:\n",
      "И\t11001000\n",
      "с\t11110001\n",
      "ю\t11111110\n",
      "к\t11101010\n",
      "\t  101101\n",
      "Исходное значение: 101101 = 45\n",
      "\n",
      "Шифрование:\n",
      "Таблица генерации гамм:  (10 - итераций)\n",
      " № |  Регистр  |      XOR(b7)      | Гамма | Символы | Результат\n",
      "-----------------------------------------------------------------\n",
      " 1 |  00101101 | 0 ⊻ 1 ⊻ 1 ⊻ 0 = 0 |   1   |  И > Й  | Й\n",
      " 2 |  00010110 | 0 ⊻ 0 ⊻ 1 ⊻ 1 = 0 |   0   |  с > с  | Йс\n",
      " 3 |  00001011 | 0 ⊻ 1 ⊻ 0 ⊻ 1 = 0 |   1   |  ю > я  | Йся\n",
      " 4 |  00000101 | 0 ⊻ 0 ⊻ 1 ⊻ 0 = 1 |   1   |  к > л  | Йсял\n",
      " 5 |  10000010 | 1 ⊻ 0 ⊻ 0 ⊻ 1 = 0 |   0   |  И > И  | ЙсялИ\n",
      " 6 |  01000001 | 0 ⊻ 0 ⊻ 0 ⊻ 0 = 0 |   1   |  с > р  | ЙсялИр\n",
      " 7 |  00100000 | 0 ⊻ 0 ⊻ 0 ⊻ 0 = 0 |   0   |  ю > ю  | ЙсялИрю\n",
      " 8 |  00010000 | 0 ⊻ 0 ⊻ 0 ⊻ 0 = 0 |   0   |  к > к  | ЙсялИрюк\n",
      " 9 |  00001000 | 0 ⊻ 1 ⊻ 0 ⊻ 0 = 1 |   0   |  И > И  | ЙсялИрюкИ\n",
      "10 |  10000100 | 1 ⊻ 0 ⊻ 1 ⊻ 0 = 0 |   0   |  с > с  | ЙсялИрюкИс\n",
      "Зашифрованный текст: Йсял\n",
      "\n",
      "Расшифровка:\n",
      "Таблица генерации гамм:  (10 - итераций)\n",
      " № |  Регистр  |      XOR(b7)      | Гамма | Символы | Результат\n",
      "-----------------------------------------------------------------\n",
      " 1 |  00101101 | 0 ⊻ 1 ⊻ 1 ⊻ 0 = 0 |   1   |  Й > И  | И\n",
      " 2 |  00010110 | 0 ⊻ 0 ⊻ 1 ⊻ 1 = 0 |   0   |  с > с  | Ис\n",
      " 3 |  00001011 | 0 ⊻ 1 ⊻ 0 ⊻ 1 = 0 |   1   |  я > ю  | Исю\n",
      " 4 |  00000101 | 0 ⊻ 0 ⊻ 1 ⊻ 0 = 1 |   1   |  л > к  | Исюк\n",
      " 5 |  10000010 | 1 ⊻ 0 ⊻ 0 ⊻ 1 = 0 |   0   |  Й > Й  | ИсюкЙ\n",
      " 6 |  01000001 | 0 ⊻ 0 ⊻ 0 ⊻ 0 = 0 |   1   |  с > р  | ИсюкЙр\n",
      " 7 |  00100000 | 0 ⊻ 0 ⊻ 0 ⊻ 0 = 0 |   0   |  я > я  | ИсюкЙря\n",
      " 8 |  00010000 | 0 ⊻ 0 ⊻ 0 ⊻ 0 = 0 |   0   |  л > л  | ИсюкЙрял\n",
      " 9 |  00001000 | 0 ⊻ 1 ⊻ 0 ⊻ 0 = 1 |   0   |  Й > Й  | ИсюкЙрялЙ\n",
      "10 |  10000100 | 1 ⊻ 0 ⊻ 1 ⊻ 0 = 0 |   0   |  с > с  | ИсюкЙрялЙс\n",
      "Дешифрованный текст: Исюк\n",
      "\n"
     ]
    }
   ],
   "source": [
    "def lfsr(seed, taps):\n",
    "    index = 0\n",
    "    while True:\n",
    "        feedback = sum([seed[tap] for tap in taps]) % 2\n",
    "        yield seed\n",
    "        # yield seed[-1]\n",
    "        # print(f'{index:>2d}) {seed} g[{seed[-1]}] {[seed[tap] for tap in taps]} b7[{sum([seed[tap] for tap in taps]) % 2}]')\n",
    "        index += 1\n",
    "        seed = [feedback] + seed[:-1]\n",
    "\n",
    "def blumBlumShub(n, seed, taps):\n",
    "    l = lfsr(seed, taps)\n",
    "    result = []\n",
    "    for _ in range(n):\n",
    "        result.append(next(l))\n",
    "    return result\n",
    "\n",
    "def getTaps(polynomial):\n",
    "    return [i for i, x in enumerate(polynomial) if x == '1']\n",
    "\n",
    "def encrypt_surname(text, n, polynomial, initialValue):\n",
    "    encryptionData = 'Шифрование:\\n'\n",
    "    seed = [int(x) for x in bin(initialValue)[2:].zfill(8)]\n",
    "    taps = getTaps(polynomial)\n",
    "    gamma = blumBlumShub(n, seed, taps)\n",
    "    encrypted = ''.join([chr(ord(c) ^ (gamma[i])[-1]) for i, c in enumerate(text)])\n",
    "    encryptionData += f'Таблица генерации гамм:  ({n} - итераций)\\n'\n",
    "    encryptionData += f' № |  Регистр  |      XOR(b7)      | Гамма | Символы | Результат\\n'\n",
    "    encryptionData += '-' * 65\n",
    "    encryptedStr = ''\n",
    "    for i, bit in enumerate(gamma):\n",
    "        seedStr = ''.join(str(item) for item in gamma[i])\n",
    "        gammaStr = str(bit[-1])\n",
    "        char = text[i % len(text)]\n",
    "        encryptedChar = chr(ord(char) ^ bit[-1])\n",
    "        encryptedStr += encryptedChar\n",
    "        xor = ' ⊻ '.join([seedStr[i] for i in taps])\n",
    "        xorRes = sum(int(seedStr[i]) for i in taps) % 2\n",
    "        encryptionData += f'\\n{i + 1:^3}| {seedStr:^10}|{xor:^15}={xorRes:>2} | {gammaStr:^5} | {char:^3}>{encryptedChar:^3} | {encryptedStr}'\n",
    "        seed = [bit] + seed[:-1]\n",
    "    return encrypted, encryptionData\n",
    "\n",
    "def decrypt_surname(text, n, polynomial, initialValue):\n",
    "    decryptionData = 'Расшифровка:\\n'\n",
    "    seed = [int(x) for x in bin(initialValue)[2:].zfill(8)]\n",
    "    taps = getTaps(polynomial)\n",
    "    gamma = blumBlumShub(n, seed, taps)\n",
    "    decrypted = ''.join([chr(ord(c) ^ (gamma[i])[-1]) for i, c in enumerate(text)])\n",
    "    decryptionData += f'Таблица генерации гамм:  ({n} - итераций)\\n'\n",
    "    decryptionData += f' № |  Регистр  |      XOR(b7)      | Гамма | Символы | Результат\\n'\n",
    "    decryptionData += '-' * 65\n",
    "    decryptedStr = ''\n",
    "    for i, bit in enumerate(gamma):\n",
    "        seedStr = ''.join(str(item) for item in gamma[i])\n",
    "        gammaStr = str(bit[-1])\n",
    "        char = text[i % len(text)]\n",
    "        decryptedChar = chr(ord(char) ^ bit[-1])\n",
    "        decryptedStr += decryptedChar\n",
    "        xor = ' ⊻ '.join([seedStr[i] for i in taps])\n",
    "        xorRes = sum(int(seedStr[i]) for i in taps) % 2\n",
    "        decryptionData += f'\\n{i + 1:^3}| {seedStr:^10}|{xor:^15}={xorRes:>2} | {gammaStr:^5} | {char:^3}>{decryptedChar:^3} | {decryptedStr}'\n",
    "        seed = [bit] + seed[:-1]\n",
    "    return decrypted, decryptionData\n",
    "\n",
    "\n",
    "text = 'Исюк'\n",
    "n = 10\n",
    "polynomial = '10001110'\n",
    "\n",
    "srcValue = [c for c in text.encode('cp1251')]\n",
    "initialValue = srcValue[0]\n",
    "for val in srcValue[1:]:\n",
    "    initialValue ^= val\n",
    "initialValueCalc = 'Расчет исходного значения:\\n'\n",
    "for i in range(len(text)):\n",
    "    initialValueCalc += f'{text[i]}\\t{bin(srcValue[i])[2:]:>8}\\n'\n",
    "initialValueCalc += f'\\t{bin(initialValue)[2:]:>8}\\n'\n",
    "initialValueCalc += f'Исходное значение: {bin(initialValue)[2:]} = {initialValue}\\n'\n",
    "\n",
    "encrypt, encryptionLog = encrypt_surname(text, n, polynomial, initialValue)\n",
    "decrypt, decryptionLog = decrypt_surname(encrypt, n, polynomial, initialValue)\n",
    "print(f'''Исходный текст:      {text}\n",
    "{initialValueCalc}\n",
    "{encryptionLog}\n",
    "Зашифрованный текст: {encrypt}\n",
    "\n",
    "{decryptionLog}\n",
    "Дешифрованный текст: {decrypt}\n",
    "''')\n"
   ]
  }
 ],
 "metadata": {
  "kernelspec": {
   "display_name": "Python 3",
   "language": "python",
   "name": "python3"
  },
  "language_info": {
   "codemirror_mode": {
    "name": "ipython",
    "version": 3
   },
   "file_extension": ".py",
   "mimetype": "text/x-python",
   "name": "python",
   "nbconvert_exporter": "python",
   "pygments_lexer": "ipython3",
   "version": "3.11.6"
  },
  "orig_nbformat": 4
 },
 "nbformat": 4,
 "nbformat_minor": 2
}
